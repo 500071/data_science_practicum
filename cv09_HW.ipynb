{
  "nbformat": 4,
  "nbformat_minor": 0,
  "metadata": {
    "colab": {
      "provenance": [],
      "authorship_tag": "ABX9TyN55jWvpyZIuQICRo/wFvKj",
      "include_colab_link": true
    },
    "kernelspec": {
      "name": "python3",
      "display_name": "Python 3"
    },
    "language_info": {
      "name": "python"
    }
  },
  "cells": [
    {
      "cell_type": "markdown",
      "metadata": {
        "id": "view-in-github",
        "colab_type": "text"
      },
      "source": [
        "<a href=\"https://colab.research.google.com/github/500071/data_science_practicum/blob/main/cv09_HW.ipynb\" target=\"_parent\"><img src=\"https://colab.research.google.com/assets/colab-badge.svg\" alt=\"Open In Colab\"/></a>"
      ]
    },
    {
      "cell_type": "code",
      "execution_count": 1,
      "metadata": {
        "colab": {
          "base_uri": "https://localhost:8080/"
        },
        "id": "e31FhV391eoH",
        "outputId": "12a71f89-c530-4684-edc1-423996605b2b"
      },
      "outputs": [
        {
          "output_type": "stream",
          "name": "stdout",
          "text": [
            "\u001b[2K     \u001b[90m━━━━━━━━━━━━━━━━━━━━━━━━━━━━━━━━━━━━━━━━\u001b[0m \u001b[32m220.8/220.8 kB\u001b[0m \u001b[31m4.2 MB/s\u001b[0m eta \u001b[36m0:00:00\u001b[0m\n",
            "\u001b[2K     \u001b[90m━━━━━━━━━━━━━━━━━━━━━━━━━━━━━━━━━━━━━━━━\u001b[0m \u001b[32m2.0/2.0 MB\u001b[0m \u001b[31m38.4 MB/s\u001b[0m eta \u001b[36m0:00:00\u001b[0m\n",
            "\u001b[2K     \u001b[90m━━━━━━━━━━━━━━━━━━━━━━━━━━━━━━━━━━━━━━━━\u001b[0m \u001b[32m75.0/75.0 kB\u001b[0m \u001b[31m9.9 MB/s\u001b[0m eta \u001b[36m0:00:00\u001b[0m\n",
            "\u001b[2K     \u001b[90m━━━━━━━━━━━━━━━━━━━━━━━━━━━━━━━━━━━━━━━━\u001b[0m \u001b[32m76.9/76.9 kB\u001b[0m \u001b[31m12.7 MB/s\u001b[0m eta \u001b[36m0:00:00\u001b[0m\n",
            "\u001b[2K     \u001b[90m━━━━━━━━━━━━━━━━━━━━━━━━━━━━━━━━━━━━━━━━\u001b[0m \u001b[32m58.3/58.3 kB\u001b[0m \u001b[31m9.3 MB/s\u001b[0m eta \u001b[36m0:00:00\u001b[0m\n",
            "\u001b[?25h\u001b[31mERROR: pip's dependency resolver does not currently take into account all the packages that are installed. This behaviour is the source of the following dependency conflicts.\n",
            "llmx 0.0.15a0 requires cohere, which is not installed.\u001b[0m\u001b[31m\n",
            "\u001b[0m"
          ]
        }
      ],
      "source": [
        "pip install -qq openai tiktoken"
      ]
    },
    {
      "cell_type": "code",
      "source": [
        "import openai\n",
        "import tiktoken\n",
        "from time import strptime"
      ],
      "metadata": {
        "id": "4K924ACL1iu6"
      },
      "execution_count": 2,
      "outputs": []
    },
    {
      "cell_type": "code",
      "source": [
        "encoding = tiktoken.encoding_for_model('gpt-3.5-turbo')"
      ],
      "metadata": {
        "id": "Kf5-LTp41mow"
      },
      "execution_count": 3,
      "outputs": []
    },
    {
      "cell_type": "code",
      "source": [
        "textCZ = \"Vážení šachoví přátelé, po dlouhé době, co znojemský vážný turnajový šach spal, se tento rok navrací zpět v plné síle obnovou tradičního festivalu Znojemská Rotunda OPEN v jeho klasickém termínu! Přijeďte k nám navázat na tuto přerušenou 18 let dlouhou tradici v prvním obnoveném ročníku! Termín 19. 8.—26. 8. 2023 zapisujte do kalendáře a rozepisujte své emaily s přihláškami, protože…Kde jinde si lépe užít perfektní letní odpočinek či dovolenou plnou historických krás, tepla, přírodních památek, možnosti výletů jak pěších tak cyklovýletů, skvělého vína a pohodové atmosféry spojené se šachovým festivalem? Odpovídáte správně! Určitě u nás ve Znojmě!\""
      ],
      "metadata": {
        "id": "I7APp-K018Wj"
      },
      "execution_count": 4,
      "outputs": []
    },
    {
      "cell_type": "code",
      "source": [
        "textENG = \"Brno, Sept. 22 (BD) – The Faculty of Informatics at Masaryk University hosted an international conference on Open Source as part of the Czech Presidency of the Council of the European Union, aiming to boost the reputation of the South Moravian capital as a Central European innovation hub for advances in open source technology.\""
      ],
      "metadata": {
        "id": "g5nFskgs32Vm"
      },
      "execution_count": 5,
      "outputs": []
    },
    {
      "cell_type": "code",
      "source": [
        "textENG2 = \"The International Colloquium on Latin Linguistics has been held biennially since 1981 under the auspices of the International Committee on Latin Linguistics. It is devoted to all aspects of Latin linguistics, from both a synchronic and diachronic perspective. We are pleased to announce that the 22nd International Colloquium on Latin Linguistics (ICLL 2023) will be held in Prague (Czech Republic) on June 19–23, 2023, organized by the Institute of Greek and Latin Studies (Faculty of Arts, Charles University Prague).\""
      ],
      "metadata": {
        "id": "TCdQIRqOeXlZ"
      },
      "execution_count": 28,
      "outputs": []
    },
    {
      "cell_type": "code",
      "source": [
        "from openai import OpenAI\n",
        "\n",
        "client = OpenAI(\n",
        "    api_key=\"sk-.............................\",  # CHANGE THIS TO ACTUAL API KEY\n",
        ")"
      ],
      "metadata": {
        "id": "eLe9OXXe5SsL"
      },
      "execution_count": 6,
      "outputs": []
    },
    {
      "cell_type": "code",
      "source": [
        "def get_info(text):\n",
        "  prompt = \"Hello, I will now give you a text about an event. Could you please give me the title and the date of the event? Return the date in DDMMYY format. Be as brief as possible, only return the title and date separated by a comma. Don't include any additional text\"\n",
        "  c = client.chat.completions.create(\n",
        "      messages=[\n",
        "          {\"role\": \"user\", \"content\": prompt + \"\\n \\n\" + text}\n",
        "      ],\n",
        "      model=\"gpt-3.5-turbo\",\n",
        "  )\n",
        "  result = c.choices[0].message.content\n",
        "  result = result.split(',')\n",
        "  if len(result) != 2:\n",
        "    return None\n",
        "  name = result[0]\n",
        "  try:\n",
        "    date = strptime(result[1].strip(), '%d%m%y')\n",
        "  except ValueError as ve1:\n",
        "    date = result[1]\n",
        "  return name, date"
      ],
      "metadata": {
        "id": "9oocY9fz4HjC"
      },
      "execution_count": 31,
      "outputs": []
    },
    {
      "cell_type": "code",
      "source": [
        "name, date = get_info(textCZ)\n",
        "print(\"Event's title:\", name)\n",
        "print(\"Event's date:\", date)"
      ],
      "metadata": {
        "colab": {
          "base_uri": "https://localhost:8080/"
        },
        "id": "hiNy5eZl4uWt",
        "outputId": "28359a49-503a-4b7e-b8a1-7a6e9764e6f2"
      },
      "execution_count": 32,
      "outputs": [
        {
          "output_type": "stream",
          "name": "stdout",
          "text": [
            "Event's title: Znojemská Rotunda OPEN\n",
            "Event's date: time.struct_time(tm_year=2023, tm_mon=8, tm_mday=19, tm_hour=0, tm_min=0, tm_sec=0, tm_wday=5, tm_yday=231, tm_isdst=-1)\n"
          ]
        }
      ]
    },
    {
      "cell_type": "code",
      "source": [
        "name, date = get_info(textCZ)\n",
        "print(\"Event's title:\", name)\n",
        "print(\"Event's date:\", date)"
      ],
      "metadata": {
        "colab": {
          "base_uri": "https://localhost:8080/"
        },
        "id": "6_VjrSYrcVau",
        "outputId": "a0729398-3ecd-4166-ea0b-9cc762329fc3"
      },
      "execution_count": 33,
      "outputs": [
        {
          "output_type": "stream",
          "name": "stdout",
          "text": [
            "Event's title: Znojemská Rotunda OPEN\n",
            "Event's date: time.struct_time(tm_year=2023, tm_mon=8, tm_mday=19, tm_hour=0, tm_min=0, tm_sec=0, tm_wday=5, tm_yday=231, tm_isdst=-1)\n"
          ]
        }
      ]
    },
    {
      "cell_type": "code",
      "source": [
        "name, date = get_info(textENG2)\n",
        "print(\"Event's title:\", name)\n",
        "print(\"Event's date:\", date)"
      ],
      "metadata": {
        "colab": {
          "base_uri": "https://localhost:8080/"
        },
        "id": "IRSbqMShcckB",
        "outputId": "878371a2-dcb0-4f9d-8c74-118015bf4b0c"
      },
      "execution_count": 34,
      "outputs": [
        {
          "output_type": "stream",
          "name": "stdout",
          "text": [
            "Event's title: International Colloquium on Latin Linguistics\n",
            "Event's date: time.struct_time(tm_year=2023, tm_mon=6, tm_mday=19, tm_hour=0, tm_min=0, tm_sec=0, tm_wday=0, tm_yday=170, tm_isdst=-1)\n"
          ]
        }
      ]
    }
  ]
}