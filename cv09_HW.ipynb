{
  "nbformat": 4,
  "nbformat_minor": 0,
  "metadata": {
    "colab": {
      "provenance": [],
      "authorship_tag": "ABX9TyNTAUqI6Xe3MSHHKJKFJFoi",
      "include_colab_link": true
    },
    "kernelspec": {
      "name": "python3",
      "display_name": "Python 3"
    },
    "language_info": {
      "name": "python"
    }
  },
  "cells": [
    {
      "cell_type": "markdown",
      "metadata": {
        "id": "view-in-github",
        "colab_type": "text"
      },
      "source": [
        "<a href=\"https://colab.research.google.com/github/500071/data_science_practicum/blob/main/cv09_HW.ipynb\" target=\"_parent\"><img src=\"https://colab.research.google.com/assets/colab-badge.svg\" alt=\"Open In Colab\"/></a>"
      ]
    },
    {
      "cell_type": "code",
      "execution_count": null,
      "metadata": {
        "colab": {
          "base_uri": "https://localhost:8080/"
        },
        "id": "e31FhV391eoH",
        "outputId": "4f30601b-4f69-4cd2-cdda-1e7e50f15034"
      },
      "outputs": [
        {
          "output_type": "stream",
          "name": "stdout",
          "text": [
            "\u001b[2K     \u001b[90m━━━━━━━━━━━━━━━━━━━━━━━━━━━━━━━━━━━━━━━━\u001b[0m \u001b[32m220.3/220.3 kB\u001b[0m \u001b[31m3.6 MB/s\u001b[0m eta \u001b[36m0:00:00\u001b[0m\n",
            "\u001b[2K     \u001b[90m━━━━━━━━━━━━━━━━━━━━━━━━━━━━━━━━━━━━━━━━\u001b[0m \u001b[32m2.0/2.0 MB\u001b[0m \u001b[31m35.0 MB/s\u001b[0m eta \u001b[36m0:00:00\u001b[0m\n",
            "\u001b[2K     \u001b[90m━━━━━━━━━━━━━━━━━━━━━━━━━━━━━━━━━━━━━━━━\u001b[0m \u001b[32m75.0/75.0 kB\u001b[0m \u001b[31m9.2 MB/s\u001b[0m eta \u001b[36m0:00:00\u001b[0m\n",
            "\u001b[2K     \u001b[90m━━━━━━━━━━━━━━━━━━━━━━━━━━━━━━━━━━━━━━━━\u001b[0m \u001b[32m76.9/76.9 kB\u001b[0m \u001b[31m9.9 MB/s\u001b[0m eta \u001b[36m0:00:00\u001b[0m\n",
            "\u001b[2K     \u001b[90m━━━━━━━━━━━━━━━━━━━━━━━━━━━━━━━━━━━━━━━━\u001b[0m \u001b[32m58.3/58.3 kB\u001b[0m \u001b[31m6.7 MB/s\u001b[0m eta \u001b[36m0:00:00\u001b[0m\n",
            "\u001b[?25h\u001b[31mERROR: pip's dependency resolver does not currently take into account all the packages that are installed. This behaviour is the source of the following dependency conflicts.\n",
            "llmx 0.0.15a0 requires cohere, which is not installed.\u001b[0m\u001b[31m\n",
            "\u001b[0m"
          ]
        }
      ],
      "source": [
        "pip install -qq openai tiktoken"
      ]
    },
    {
      "cell_type": "code",
      "source": [
        "import openai\n",
        "import tiktoken"
      ],
      "metadata": {
        "id": "4K924ACL1iu6"
      },
      "execution_count": null,
      "outputs": []
    },
    {
      "cell_type": "code",
      "source": [
        "encoding = tiktoken.encoding_for_model('gpt-3.5-turbo')"
      ],
      "metadata": {
        "id": "Kf5-LTp41mow"
      },
      "execution_count": null,
      "outputs": []
    },
    {
      "cell_type": "code",
      "source": [
        "textCZ = \"Vážení šachoví přátelé, po dlouhé době, co znojemský vážný turnajový šach spal, se tento rok navrací zpět v plné síle obnovou tradičního festivalu Znojemská Rotunda OPEN v jeho klasickém termínu! Přijeďte k nám navázat na tuto přerušenou 18 let dlouhou tradici v prvním obnoveném ročníku! Termín 19. 8.—26. 8. 2023 zapisujte do kalendáře a rozepisujte své emaily s přihláškami, protože…Kde jinde si lépe užít perfektní letní odpočinek či dovolenou plnou historických krás, tepla, přírodních památek, možnosti výletů jak pěších tak cyklovýletů, skvělého vína a pohodové atmosféry spojené se šachovým festivalem? Odpovídáte správně! Určitě u nás ve Znojmě!\""
      ],
      "metadata": {
        "id": "I7APp-K018Wj"
      },
      "execution_count": null,
      "outputs": []
    },
    {
      "cell_type": "code",
      "source": [
        "textENG = \"Brno, Sept. 22 (BD) – The Faculty of Informatics at Masaryk University hosted an international conference on Open Source as part of the Czech Presidency of the Council of the European Union, aiming to boost the reputation of the South Moravian capital as a Central European innovation hub for advances in open source technology.\""
      ],
      "metadata": {
        "id": "g5nFskgs32Vm"
      },
      "execution_count": null,
      "outputs": []
    },
    {
      "cell_type": "code",
      "source": [
        "prompt = \"Hello, I will now give you a text about an event. Could you please give me the title and the date of the event? Be as brief as possible, only return the title and date separated by a comma. Don't include any additional text.\""
      ],
      "metadata": {
        "id": "k62Voj-N3-Ek"
      },
      "execution_count": null,
      "outputs": []
    },
    {
      "cell_type": "code",
      "source": [
        "from openai import OpenAI\n",
        "\n",
        "client = OpenAI(\n",
        "    api_key=\"sk-.............................\",\",  # CHANGE THIS TO ACTUAL API KEY\n",
        ")"
      ],
      "metadata": {
        "id": "eLe9OXXe5SsL"
      },
      "execution_count": null,
      "outputs": []
    },
    {
      "cell_type": "code",
      "source": [
        "c = client.chat.completions.create(\n",
        "    messages=[\n",
        "        {\"role\": \"user\", \"content\": prompt + \"\\n \\n\" + textCZ}\n",
        "    ],\n",
        "    model=\"gpt-3.5-turbo\",\n",
        ")"
      ],
      "metadata": {
        "id": "9oocY9fz4HjC"
      },
      "execution_count": null,
      "outputs": []
    },
    {
      "cell_type": "code",
      "source": [
        "result = c.choices[0].message.content"
      ],
      "metadata": {
        "id": "C2IF4UuA4qlP"
      },
      "execution_count": null,
      "outputs": []
    },
    {
      "cell_type": "code",
      "source": [
        "result = result.split(',')"
      ],
      "metadata": {
        "id": "dK4RU0V541zs"
      },
      "execution_count": null,
      "outputs": []
    },
    {
      "cell_type": "code",
      "source": [
        "print(\"Event's title:\", result[0])\n",
        "print(\"Event's date:\", result[1])"
      ],
      "metadata": {
        "colab": {
          "base_uri": "https://localhost:8080/"
        },
        "id": "hiNy5eZl4uWt",
        "outputId": "d92586e4-187c-4c79-9e48-8f343b7b9944"
      },
      "execution_count": null,
      "outputs": [
        {
          "output_type": "stream",
          "name": "stdout",
          "text": [
            "Event's title: Znojemská Rotunda OPEN\n",
            "Event's date:  19. 8.—26. 8. 2023\n"
          ]
        }
      ]
    }
  ]
}